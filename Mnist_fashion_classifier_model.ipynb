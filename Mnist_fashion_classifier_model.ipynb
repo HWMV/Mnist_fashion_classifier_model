{
  "nbformat": 4,
  "nbformat_minor": 0,
  "metadata": {
    "colab": {
      "provenance": [],
      "authorship_tag": "ABX9TyOfukzZGlp+wTKozS3a8sm9",
      "include_colab_link": true
    },
    "kernelspec": {
      "name": "python3",
      "display_name": "Python 3"
    },
    "language_info": {
      "name": "python"
    }
  },
  "cells": [
    {
      "cell_type": "markdown",
      "metadata": {
        "id": "view-in-github",
        "colab_type": "text"
      },
      "source": [
        "<a href=\"https://colab.research.google.com/github/HWMV/Mnist_fashion_classifier_model/blob/main/Mnist_fashion_classifier_model.ipynb\" target=\"_parent\"><img src=\"https://colab.research.google.com/assets/colab-badge.svg\" alt=\"Open In Colab\"/></a>"
      ]
    },
    {
      "cell_type": "code",
      "execution_count": null,
      "metadata": {
        "id": "RDimW6addKpT"
      },
      "outputs": [],
      "source": []
    },
    {
      "cell_type": "markdown",
      "source": [
        "# Mnist_fashion_classifier_model\n",
        "\n",
        "### 10개의 클래스로 나누어진 의류 이미지를 분류하는 모델\n"
      ],
      "metadata": {
        "id": "JnIdEXJJdz6p"
      }
    }
  ]
}